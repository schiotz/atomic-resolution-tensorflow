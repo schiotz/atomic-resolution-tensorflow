{
 "cells": [
  {
   "cell_type": "markdown",
   "metadata": {},
   "source": [
    "# Make movie for conclusion slide"
   ]
  },
  {
   "cell_type": "code",
   "execution_count": null,
   "metadata": {},
   "outputs": [],
   "source": [
    "%matplotlib inline\n",
    "import matplotlib.pyplot as plt\n",
    "from glob import glob\n",
    "import numpy as np\n",
    "# Peak detection\n",
    "from scipy.spatial import cKDTree as KDTree\n",
    "import sys\n",
    "import os\n",
    "import tempfile\n",
    "import hyperspy.api as hs\n",
    "import skimage.io"
   ]
  },
  {
   "cell_type": "code",
   "execution_count": null,
   "metadata": {},
   "outputs": [],
   "source": [
    "imgroot = 'experiment/Au-CeO2__200_CO_7_250'\n",
    "atomsroot = imgroot + '_atoms'"
   ]
  },
  {
   "cell_type": "code",
   "execution_count": null,
   "metadata": {},
   "outputs": [],
   "source": [
    "def namegenerator(imgroot, dataroot):\n",
    "    for root, dirs, files in os.walk(imgroot):\n",
    "        dirs.sort()\n",
    "        files.sort()\n",
    "        for f in files:\n",
    "            fullname = os.path.join(root, f)\n",
    "            f_noext, ext = os.path.splitext(fullname)\n",
    "            if ext not in ['.dm4', '.png']:\n",
    "                continue\n",
    "            assert f_noext.startswith(imgroot)\n",
    "            dataname = dataroot + f_noext[len(imgroot):] + '_atoms.npy'\n",
    "            yield fullname, dataname"
   ]
  },
  {
   "cell_type": "code",
   "execution_count": null,
   "metadata": {},
   "outputs": [],
   "source": [
    "names = namegenerator(imgroot, atomsroot)"
   ]
  },
  {
   "cell_type": "code",
   "execution_count": null,
   "metadata": {},
   "outputs": [],
   "source": [
    "def get_image(f):\n",
    "    if f.endswith('.dm4'):\n",
    "        a = hs.load(f)\n",
    "        image = a.data\n",
    "    else:\n",
    "        a = skimage.io.imread(f)\n",
    "        image = skimage.color.rgb2gray(a)\n",
    "    return image"
   ]
  },
  {
   "cell_type": "code",
   "execution_count": null,
   "metadata": {},
   "outputs": [],
   "source": [
    "def get_points(f):\n",
    "    atoms = np.load(f)\n",
    "    return atoms"
   ]
  },
  {
   "cell_type": "code",
   "execution_count": null,
   "metadata": {},
   "outputs": [],
   "source": [
    "def crop(image, atoms, xmin=0, xmax=None, ymin=0, ymax=None):\n",
    "    shape = image.shape\n",
    "    if xmax is None:\n",
    "        xmax = shape[0]\n",
    "    if ymax is None:\n",
    "        ymax = shape[1]\n",
    "    image = image[xmin:xmax,ymin:ymax]\n",
    "    d = 5\n",
    "    atoms = atoms[np.where(atoms[:,0] > xmin + d)]\n",
    "    atoms = atoms[np.where(atoms[:,1] > ymin + d)]\n",
    "    atoms = atoms[np.where(atoms[:,0] < xmax - d)]\n",
    "    atoms = atoms[np.where(atoms[:,1] < ymax - d)]\n",
    "    atoms = atoms - np.array((xmin, ymin))\n",
    "    return image, atoms"
   ]
  },
  {
   "cell_type": "code",
   "execution_count": null,
   "metadata": {},
   "outputs": [],
   "source": [
    "def makefigure(image, atoms, plotfile):\n",
    "    #image, atoms = crop(image, atoms, xmin=500, xmax=1150, ymin=150, ymax=800)\n",
    "\n",
    "    fig, ax_atoms = plt.subplots(1,1,figsize=(10,10))\n",
    "    #im1 = ax_raw.imshow(image,cmap='gray')\n",
    "    im3 = ax_atoms.imshow(image, cmap='gray')\n",
    "    #mycolor = '#80FFFF'\n",
    "    mycolor = '#FFFF00'\n",
    "    ax_atoms.scatter(atoms[:,1], atoms[:,0], c=mycolor, marker='o', linewidth=2.0)\n",
    "    ax_atoms.axis('off')\n",
    "    plt.tight_layout()\n",
    "    fig.savefig(plotfile, bbox_inches='tight')\n",
    "    plt.close(fig)"
   ]
  },
  {
   "cell_type": "code",
   "execution_count": null,
   "metadata": {},
   "outputs": [],
   "source": [
    "#with tempfile.TemporaryDirectory() as tmpdir:\n",
    "tmpdirectory = tempfile.TemporaryDirectory()\n",
    "tmpdir = tmpdirectory.name\n",
    "filenames = os.path.join(tmpdir, 'files.txt')\n",
    "with open(filenames, \"wt\") as f:\n",
    "    print(\"Temporary folder:\", tmpdir)\n",
    "    for i, (fi, fd) in enumerate(names):\n",
    "        image = get_image(fi)\n",
    "        atoms = get_points(fd)\n",
    "        atoms = atoms[atoms[:,0] > 70]\n",
    "        print(fi)\n",
    "        pngfile = 'a{:04d}.png'.format(i)\n",
    "        plotfile = os.path.join(tmpdir, 'a{:04d}.jpg'.format(i))\n",
    "        tempfile = os.path.join(tmpdir, 'tmp_'+pngfile)\n",
    "        makefigure(image, atoms, tempfile)\n",
    "        os.system(\"convert -trim -quality 100 {} {}\".format(tempfile, plotfile))\n",
    "        #os.remove(tempfile)\n",
    "        f.write(plotfile + '\\n')\n",
    "        #if i == 25: break"
   ]
  },
  {
   "cell_type": "markdown",
   "metadata": {},
   "source": [
    "The images are converted to a movie using the `convert` utility from ImageMagick.  Unfortunately, it produces a video that PowerPoint cannot play, so it has to be converted again by a video conversion utility (I use Wondershare for Mac)."
   ]
  },
  {
   "cell_type": "code",
   "execution_count": null,
   "metadata": {},
   "outputs": [],
   "source": [
    "cmd = 'convert -delay 5 -quality 95 @{} movie_conclusion.m4v'.format(filenames)\n",
    "print(cmd)\n",
    "os.system(cmd)"
   ]
  },
  {
   "cell_type": "code",
   "execution_count": null,
   "metadata": {},
   "outputs": [],
   "source": [
    "# del tmpdirectory"
   ]
  },
  {
   "cell_type": "code",
   "execution_count": null,
   "metadata": {},
   "outputs": [],
   "source": []
  }
 ],
 "metadata": {
  "kernelspec": {
   "display_name": "Python 3",
   "language": "python",
   "name": "python3"
  },
  "language_info": {
   "codemirror_mode": {
    "name": "ipython",
    "version": 3
   },
   "file_extension": ".py",
   "mimetype": "text/x-python",
   "name": "python",
   "nbconvert_exporter": "python",
   "pygments_lexer": "ipython3",
   "version": "3.6.5"
  }
 },
 "nbformat": 4,
 "nbformat_minor": 2
}
