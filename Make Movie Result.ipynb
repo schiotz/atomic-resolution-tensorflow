{
 "cells": [
  {
   "cell_type": "markdown",
   "metadata": {},
   "source": [
    "# Make movie for Result/Nanoparticle slide"
   ]
  },
  {
   "cell_type": "code",
   "execution_count": null,
   "metadata": {},
   "outputs": [],
   "source": [
    "%matplotlib inline\n",
    "import matplotlib.pyplot as plt\n",
    "from glob import glob\n",
    "import numpy as np\n",
    "# Peak detection\n",
    "from scipy.spatial import cKDTree as KDTree\n",
    "import sys\n",
    "import os\n",
    "import tempfile\n",
    "import hyperspy.api as hs\n",
    "import skimage.io\n",
    "from stm.feature.peaks import find_local_peaks, refine_peaks\n",
    "from skimage.morphology import disk\n",
    "from scipy.spatial import cKDTree as KDTree\n",
    "from stm.preprocess import normalize\n"
   ]
  },
  {
   "cell_type": "code",
   "execution_count": null,
   "metadata": {},
   "outputs": [],
   "source": [
    "imgroot = 'experiment/Au-CeO2_HVAC14'\n",
    "atomsroot = imgroot + '_atoms_negdefocus'\n",
    "predroot = imgroot + \"_prediction_negdefocus\"\n",
    "moviename = \"movie_thomas_negdefocus.m4v\"\n",
    "sampling = 0.105\n",
    "threshold = None"
   ]
  },
  {
   "cell_type": "code",
   "execution_count": null,
   "metadata": {},
   "outputs": [],
   "source": [
    "def namegenerator(imgroot, dataroot, predroot):\n",
    "    for root, dirs, files in os.walk(imgroot):\n",
    "        dirs.sort()\n",
    "        files.sort()\n",
    "        for f in files:\n",
    "            fullname = os.path.join(root, f)\n",
    "            f_noext, ext = os.path.splitext(fullname)\n",
    "            if ext not in ['.dm4', '.png']:\n",
    "                continue\n",
    "            assert f_noext.startswith(imgroot)\n",
    "            dataname = dataroot + f_noext[len(imgroot):] + '_atoms.npy'\n",
    "            predname = predroot + f_noext[len(imgroot):] + '_prediction.npz'\n",
    "            yield fullname, dataname, predname"
   ]
  },
  {
   "cell_type": "code",
   "execution_count": null,
   "metadata": {},
   "outputs": [],
   "source": [
    "names = namegenerator(imgroot, atomsroot, predroot)"
   ]
  },
  {
   "cell_type": "code",
   "execution_count": null,
   "metadata": {},
   "outputs": [],
   "source": [
    "def get_image(f):\n",
    "    if f.endswith('.dm4'):\n",
    "        a = hs.load(f)\n",
    "        image = a.data\n",
    "    else:\n",
    "        a = skimage.io.imread(f)\n",
    "        image = skimage.color.rgb2gray(a)\n",
    "    return image\n",
    "\n",
    "def get_points(f):\n",
    "    atoms = np.load(f)\n",
    "    return atoms\n",
    "\n",
    "def get_prediction(f):\n",
    "    pred = np.load(f)['prediction']\n",
    "    return pred"
   ]
  },
  {
   "cell_type": "code",
   "execution_count": null,
   "metadata": {},
   "outputs": [],
   "source": [
    "def crop(image1, image2, atoms, xmin=0, xmax=None, ymin=0, ymax=None):\n",
    "    shape = image1.shape\n",
    "    if xmax is None:\n",
    "        xmax = shape[0]\n",
    "    if ymax is None:\n",
    "        ymax = shape[1]\n",
    "    image1 = image1[xmin:xmax,ymin:ymax]\n",
    "    if image2 is not None:\n",
    "        image2 = image2[xmin:xmax,ymin:ymax]\n",
    "\n",
    "    d = 7\n",
    "    atoms = atoms[np.where(atoms[:,0] > xmin + d)]\n",
    "    atoms = atoms[np.where(atoms[:,1] > ymin + d)]\n",
    "    atoms = atoms[np.where(atoms[:,0] < xmax - d)]\n",
    "    atoms = atoms[np.where(atoms[:,1] < ymax - d)]\n",
    "    atoms = atoms - np.array((xmin, ymin))\n",
    "    return image1, image2, atoms"
   ]
  },
  {
   "cell_type": "code",
   "execution_count": null,
   "metadata": {},
   "outputs": [],
   "source": [
    "def find_peaks_again(prediction):\n",
    "    distance = int(2.5 / sampling)\n",
    "    peaks = find_local_peaks(prediction, min_distance=distance, \n",
    "                             threshold=threshold, exclude_border=10,\n",
    "                             exclude_adjacent=True)\n",
    "    peaks = refine_peaks(normalize(prediction), peaks, \n",
    "                         disk(2), model='polynomial')\n",
    "    return peaks"
   ]
  },
  {
   "cell_type": "code",
   "execution_count": null,
   "metadata": {},
   "outputs": [],
   "source": [
    "def makefigure(image, atoms, prediction, plotfile=None):\n",
    "    image, prediction, atoms = crop(image, prediction, atoms, xmin=500, xmax=1150, ymin=150, ymax=800)\n",
    "\n",
    "    fig, (ax_raw, ax_pred, ax_atoms) = plt.subplots(1,3,figsize=(20,11))\n",
    "    #fig, (ax_raw, ax_pred, ax_atoms) = plt.subplots(3,1,figsize=(12,40))\n",
    "\n",
    "    ax_raw.imshow(image,cmap='gray')\n",
    "    ax_pred.imshow(prediction,cmap='gray')\n",
    "    ax_atoms.imshow(image, cmap='gray')\n",
    "    #mycolor = '#80FFFF'\n",
    "    mycolor = '#FFFF00'\n",
    "    ax_atoms.scatter(atoms[:,1], atoms[:,0], c=mycolor, marker='o', linewidth=2.0)\n",
    "    ax_raw.axis('off')\n",
    "    ax_pred.axis('off')\n",
    "    ax_atoms.axis('off')\n",
    "    plt.tight_layout()\n",
    "    if plotfile:\n",
    "        fig.savefig(plotfile, bbox_inches='tight')\n",
    "        plt.close(fig)"
   ]
  },
  {
   "cell_type": "markdown",
   "metadata": {},
   "source": [
    "## Run this section only for draft"
   ]
  },
  {
   "cell_type": "code",
   "execution_count": null,
   "metadata": {},
   "outputs": [],
   "source": [
    "fi, fd, fp = next(names)\n",
    "print(fi)\n",
    "image = get_image(fi)\n",
    "atoms = get_points(fd)\n",
    "prediction = get_prediction(fp)"
   ]
  },
  {
   "cell_type": "code",
   "execution_count": null,
   "metadata": {},
   "outputs": [],
   "source": [
    "atoms2 = find_peaks_again(prediction)"
   ]
  },
  {
   "cell_type": "code",
   "execution_count": null,
   "metadata": {
    "scrolled": false
   },
   "outputs": [],
   "source": [
    "makefigure(image, atoms, prediction)"
   ]
  },
  {
   "cell_type": "markdown",
   "metadata": {},
   "source": [
    "## Run this section to produce movie"
   ]
  },
  {
   "cell_type": "code",
   "execution_count": null,
   "metadata": {},
   "outputs": [],
   "source": [
    "#with tempfile.TemporaryDirectory() as tmpdir:\n",
    "tmpdirectory = tempfile.TemporaryDirectory()\n",
    "tmpdir = tmpdirectory.name\n",
    "filenames = os.path.join(tmpdir, 'files.txt')\n",
    "with open(filenames, \"wt\") as f:\n",
    "    print(\"Temporary folder:\", tmpdir)\n",
    "    for i, (fi, fd, fp) in enumerate(names):\n",
    "        image = get_image(fi)\n",
    "        atoms = get_points(fd)\n",
    "        prediction = get_prediction(fp)\n",
    "        print(fi)\n",
    "        if threshold:\n",
    "            atoms = find_peaks_again(prediction)\n",
    "        pngfile = 'a{:04d}.png'.format(i)\n",
    "        plotfile = os.path.join(tmpdir, 'a{:04d}.jpg'.format(i))\n",
    "        tfile = os.path.join(tmpdir, 'tmp_'+pngfile)\n",
    "        makefigure(image, atoms, prediction, tfile)\n",
    "        os.system(\"convert -trim -quality 100 {} {}\".format(tfile, plotfile))\n",
    "        #os.remove(tfile)\n",
    "        f.write(plotfile + '\\n')\n",
    "        #if i == 25: break"
   ]
  },
  {
   "cell_type": "markdown",
   "metadata": {},
   "source": [
    "The images are converted to a movie using the `convert` utility from ImageMagick.  Unfortunately, it produces a video that PowerPoint cannot play, so it has to be converted again by a video conversion utility (I use Wondershare for Mac)."
   ]
  },
  {
   "cell_type": "code",
   "execution_count": null,
   "metadata": {},
   "outputs": [],
   "source": [
    "cmd = 'convert -delay 5 -quality 95 @{} {}'.format(filenames, moviename)\n",
    "print(cmd)\n",
    "os.system(cmd)"
   ]
  },
  {
   "cell_type": "code",
   "execution_count": null,
   "metadata": {},
   "outputs": [],
   "source": [
    "# del tmpdirectory"
   ]
  },
  {
   "cell_type": "code",
   "execution_count": null,
   "metadata": {},
   "outputs": [],
   "source": []
  }
 ],
 "metadata": {
  "kernelspec": {
   "display_name": "Python 3",
   "language": "python",
   "name": "python3"
  },
  "language_info": {
   "codemirror_mode": {
    "name": "ipython",
    "version": 3
   },
   "file_extension": ".py",
   "mimetype": "text/x-python",
   "name": "python",
   "nbconvert_exporter": "python",
   "pygments_lexer": "ipython3",
   "version": "3.6.5"
  }
 },
 "nbformat": 4,
 "nbformat_minor": 2
}
